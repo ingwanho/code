{
  "nbformat": 4,
  "nbformat_minor": 0,
  "metadata": {
    "colab": {
      "provenance": [],
      "include_colab_link": true
    },
    "kernelspec": {
      "name": "python3",
      "display_name": "Python 3"
    },
    "language_info": {
      "name": "python"
    }
  },
  "cells": [
    {
      "cell_type": "markdown",
      "metadata": {
        "id": "view-in-github",
        "colab_type": "text"
      },
      "source": [
        "<a href=\"https://colab.research.google.com/github/ingwanho/code/blob/main/chapter14~16.ipynb\" target=\"_parent\"><img src=\"https://colab.research.google.com/assets/colab-badge.svg\" alt=\"Open In Colab\"/></a>"
      ]
    },
    {
      "cell_type": "markdown",
      "source": [
        "안녕하세요. 수강생 여러분~! Chapter14 ~ 16 수업은 잘 들으셨나요?\n",
        "\n",
        "Chapter14 ~ 16의 수업 내용을 바탕으로 아래 문제를 풀어주시면 됩니다.\n",
        "\n",
        "####**제출 방법 안내**\n",
        "상단 파일명(4일차_파이썬14_16화.ipynb)을 4일차_파이썬14_16화_000(본인이름).ipynb로 변경후 아래 링크로 접속 후 본인 이름의 폴더에 제출해주면 됩니다.\n",
        "\n",
        "제출 링크 :\n",
        "\n",
        "####**답변 입력 방법 안내**\n",
        "\"답변\"이라고 적힌란을 마우스로 더블 클릭하시면 글을 작성할 수 있습니다.\n",
        "\n",
        "텍스트에 글을 더 잘 작성하기 위해서는 마크다운 언어를 공부하시면 됩니다.\n",
        "\n",
        "**(구글 검색 창에 \"코랩 마크다운\" 검색)**"
      ],
      "metadata": {
        "id": "BX7SgOeWu86I"
      }
    },
    {
      "cell_type": "markdown",
      "source": [
        "##문제1\n",
        "\n",
        "주어진 정수 x와 자연수 n을 이용해, x부터 시작해 x씩 증가하는 숫자를 n개 지니는 리스트를 출력해주세요   \n",
        "\n",
        "x = 2, n =5"
      ],
      "metadata": {
        "id": "7kQJMRuFu-6s"
      }
    },
    {
      "cell_type": "code",
      "execution_count": 1,
      "metadata": {
        "id": "juUF2KYbu0DX",
        "colab": {
          "base_uri": "https://localhost:8080/"
        },
        "outputId": "ca16adbd-3286-4e35-cdae-8cf27674d6e4"
      },
      "outputs": [
        {
          "output_type": "stream",
          "name": "stdout",
          "text": [
            "[2, 4, 6, 8, 10]\n"
          ]
        }
      ],
      "source": [
        "x = 2\n",
        "n = 5\n",
        "result = [x + i * x for i in range(n)]\n",
        "print(result)"
      ]
    },
    {
      "cell_type": "markdown",
      "source": [
        "##문제2\n",
        "\n",
        "전화번호가 문자열 phone_number로 주어졌을 때, 전화번호의 뒷 4자리를 *으로 가린 문자열이 출력되도록 코드를 작성해주세요\n",
        "\n",
        "phone_number = \"01012347890\"  \n",
        "\n",
        "출력 예시 : \"0101234****\""
      ],
      "metadata": {
        "id": "4BPXMLXUvBVL"
      }
    },
    {
      "cell_type": "code",
      "source": [
        "phone_number = \"01012347890\"\n",
        "hidden_number = phone_number[:-4] + \"****\"\n",
        "print(hidden_number)"
      ],
      "metadata": {
        "id": "P0fY7CYUvC_j",
        "colab": {
          "base_uri": "https://localhost:8080/"
        },
        "outputId": "d6b7a522-4417-426b-acd6-b30bd832e673"
      },
      "execution_count": 5,
      "outputs": [
        {
          "output_type": "stream",
          "name": "stdout",
          "text": [
            "0101234****\n"
          ]
        }
      ]
    },
    {
      "cell_type": "markdown",
      "source": [
        "##문제3\n",
        "\n",
        "숫자를 건넬 때 일부 자릿수를 영단어로 바꾼 카드를 건네주면 프로도는 원래 숫자를 찾는 게임입니다.\n",
        "\n",
        "다음은 숫자의 일부 자릿수를 영단어로 바꾸는 예시입니다.\n",
        "\n",
        "1478 → \"one4seveneight\"  \n",
        "234567 → \"23four5six7\"  \n",
        "10203 → \"1zerotwozero3\"    \n",
        "\n",
        "이렇게 숫자의 일부 자릿수가 영단어로 바뀌어졌거나,   \n",
        "혹은 바뀌지 않고 그대로인 문자열 s가 주어졌을때\n",
        "s가 의미하는 원래 숫자를 출력하도록 코드를 작성해주세요\n",
        "\n",
        "s = \"77three4one\n",
        "\n",
        "---\n",
        "참고로 각 숫자에 대응되는 영단어는 다음 표와 같습니다.\n",
        "\n",
        "숫자\t영단어  \n",
        "0\tzero  \n",
        "1\tone  \n",
        "2\ttwo  \n",
        "3\tthree  \n",
        "4\tfour  \n",
        "5\tfive  \n",
        "6\tsix  \n",
        "7\tseven  \n",
        "8\teight  \n",
        "9\tnine  "
      ],
      "metadata": {
        "id": "uUdOU9cFvDsq"
      }
    },
    {
      "cell_type": "code",
      "source": [
        "def solution(s):\n",
        "    words = [\"zero\", \"one\", \"two\", \"three\", \"four\", \"five\", \"six\", \"seven\", \"eight\", \"nine\"]\n",
        "    for idx, word in enumerate(words):\n",
        "        s = s.replace(word, str(idx))\n",
        "    return int(s)\n",
        "\n",
        "s = \"77three4one\"\n",
        "result = solution(s)\n",
        "print(result)"
      ],
      "metadata": {
        "id": "2NmqRFgDvFtz",
        "outputId": "ec3c1d17-4649-4e4c-c657-d073e9a7a12e",
        "colab": {
          "base_uri": "https://localhost:8080/"
        }
      },
      "execution_count": 6,
      "outputs": [
        {
          "output_type": "stream",
          "name": "stdout",
          "text": [
            "77341\n"
          ]
        }
      ]
    },
    {
      "cell_type": "markdown",
      "source": [
        "##문제4\n",
        "\n",
        "행렬의 덧셈은 행과 열의 크기가 같은 두 행렬의 같은 행, 같은 열의 값을 서로 더한 결과가 됩니다. 2개의 행렬 arr1과 arr2가 주어졌을 때, 행렬 덧셈의 결과를 출력하는 코드를 작성해주세요(result와 같은 결과가 출력되도록 작성)\n",
        "\n",
        "arr1 = [[1,2],[2,3]]\n",
        "\n",
        "arr2 = [[3,4],[5,6]]\n",
        "\n",
        "result = [[4,6],[7,9]]"
      ],
      "metadata": {
        "id": "J0Tha6AdvGL3"
      }
    },
    {
      "cell_type": "code",
      "source": [
        "arr1 = [[1, 2], [2, 3]]\n",
        "arr2 = [[3, 4], [5, 6]]\n",
        "\n",
        "result = [[arr1[i][j] + arr2[i][j] for j in range(len(arr1[0]))] for i in range(len(arr1))]\n",
        "print(result)"
      ],
      "metadata": {
        "id": "ujiXrEhJvIV0",
        "outputId": "1b6890f8-ed06-49db-e20a-ab9264e4e6eb",
        "colab": {
          "base_uri": "https://localhost:8080/"
        }
      },
      "execution_count": 7,
      "outputs": [
        {
          "output_type": "stream",
          "name": "stdout",
          "text": [
            "[[4, 6], [7, 9]]\n"
          ]
        }
      ]
    },
    {
      "cell_type": "markdown",
      "source": [
        "##문제5\n",
        "\n",
        "양의 정수 x가 하샤드 수이려면 x의 자릿수의 합으로 x가 나누어져야 합니다.   \n",
        "예를 들어 18의 자릿수 합은 1+8=9이고, 18은 9로 나누어 떨어지므로 18은 하샤드 수입니다.   \n",
        "주어진 x를 이용해 x가 하샤드 수인지 아닌지 검사하는 코드를 작성해주세요\n",
        "\n",
        "x = 17\n",
        "\n",
        "----\n",
        "\n",
        "입출력 예시\n",
        "x\t결과값  \n",
        "10\ttrue  \n",
        "12\ttrue  \n",
        "11\tfalse  \n",
        "13\tfalse  "
      ],
      "metadata": {
        "id": "eLdrWVkavJEN"
      }
    },
    {
      "cell_type": "code",
      "source": [
        "def is_harshad(x):\n",
        "    digit_sum = sum(int(digit) for digit in str(x))\n",
        "    return x % digit_sum == 0\n",
        "numbers = [10, 12, 11, 13]\n",
        "for num in numbers:\n",
        "    result = is_harshad(num)\n",
        "    print(f\"{num}: {result}\")"
      ],
      "metadata": {
        "id": "EULD-IOrvKmG",
        "outputId": "54dde627-c9d2-4be1-8f01-ce959417f84b",
        "colab": {
          "base_uri": "https://localhost:8080/"
        }
      },
      "execution_count": 8,
      "outputs": [
        {
          "output_type": "stream",
          "name": "stdout",
          "text": [
            "10: True\n",
            "12: True\n",
            "11: False\n",
            "13: False\n"
          ]
        }
      ]
    },
    {
      "cell_type": "markdown",
      "source": [
        "##문제6\n",
        "\n",
        "String형 배열 seoul의 element중 \"Kim\"의 인덱스 x를 찾아, \"김서방은 x에 있다\"는 String을 출력하는 코드를 작성해주세요.   \n",
        "\n",
        "seoul에 \"Kim\"은 오직 한 번만 나타나며 잘못된 값이 입력되는 경우는 없습니다.\n",
        "\n",
        "seoul = [\"Jane\", \"Kim\"]\n",
        "\n",
        "결과\n",
        "\"김서방은 1에 있다\""
      ],
      "metadata": {
        "id": "GeS6hZhivLMZ"
      }
    },
    {
      "cell_type": "code",
      "source": [
        "def find_kim(seoul):\n",
        "    x = seoul.index(\"Kim\")\n",
        "    return f\"김서방은 {x}에 있다\"\n",
        "\n",
        "seoul = [\"Jane\", \"Kim\"]\n",
        "result = find_kim(seoul)\n",
        "print(result)"
      ],
      "metadata": {
        "id": "e4LXat3BvRRg",
        "outputId": "a4ebfeba-0f0f-4a60-c613-ee6acc9a51a9",
        "colab": {
          "base_uri": "https://localhost:8080/"
        }
      },
      "execution_count": 9,
      "outputs": [
        {
          "output_type": "stream",
          "name": "stdout",
          "text": [
            "김서방은 1에 있다\n"
          ]
        }
      ]
    },
    {
      "cell_type": "markdown",
      "source": [
        "##문제7\n",
        "\n",
        "0부터 9까지의 숫자 중 일부가 들어있는 정수 배열 numbers가 주어집니다.   \n",
        "numbers에서 찾을 수 없는 0부터 9까지의 숫자를 모두 찾아 더한 수를 출력해주세요\n",
        "\n",
        "numbers = [5,8,1,0,6,9]"
      ],
      "metadata": {
        "id": "iZjKl-ZqvOkm"
      }
    },
    {
      "cell_type": "code",
      "source": [
        "def find_missing_number(numbers):\n",
        "    total = 45  # 0부터 9까지의 숫자 합은 45입니다.\n",
        "    for num in numbers:\n",
        "        total -= num  # numbers 배열에 있는 숫자들을 전체 합에서 빼줍니다.\n",
        "    return total\n",
        "\n",
        "numbers = [5, 8, 1, 0, 6, 9]\n",
        "result = find_missing_number(numbers)\n",
        "print(result)"
      ],
      "metadata": {
        "id": "598DAkIHvQav",
        "outputId": "d9c1bbcf-c4cc-4b2e-8167-264f2974d06b",
        "colab": {
          "base_uri": "https://localhost:8080/"
        }
      },
      "execution_count": 10,
      "outputs": [
        {
          "output_type": "stream",
          "name": "stdout",
          "text": [
            "16\n"
          ]
        }
      ]
    }
  ]
}